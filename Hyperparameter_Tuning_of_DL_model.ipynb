{
  "nbformat": 4,
  "nbformat_minor": 0,
  "metadata": {
    "colab": {
      "name": "Hyperparameter Tuning of DL model.ipynb",
      "provenance": []
    },
    "kernelspec": {
      "name": "python3",
      "display_name": "Python 3"
    },
    "accelerator": "GPU"
  },
  "cells": [
    {
      "cell_type": "code",
      "metadata": {
        "id": "cYqPrTYIF4Xu",
        "colab_type": "code",
        "colab": {}
      },
      "source": [
        "import numpy as np\n",
        "import tensorflow\n",
        "from tensorflow.keras import Sequential\n",
        "from tensorflow.keras.layers import Flatten,Dense,Conv2D,MaxPooling2D"
      ],
      "execution_count": 2,
      "outputs": []
    },
    {
      "cell_type": "code",
      "metadata": {
        "id": "V3Zx6KZhGJkH",
        "colab_type": "code",
        "colab": {
          "base_uri": "https://localhost:8080/",
          "height": 156
        },
        "outputId": "26d39364-9aec-4f4e-a44f-caadc254205b"
      },
      "source": [
        "(X_train,y_train),(X_val,y_val) = tensorflow.keras.datasets.fashion_mnist.load_data()"
      ],
      "execution_count": 3,
      "outputs": [
        {
          "output_type": "stream",
          "text": [
            "Downloading data from https://storage.googleapis.com/tensorflow/tf-keras-datasets/train-labels-idx1-ubyte.gz\n",
            "32768/29515 [=================================] - 0s 0us/step\n",
            "Downloading data from https://storage.googleapis.com/tensorflow/tf-keras-datasets/train-images-idx3-ubyte.gz\n",
            "26427392/26421880 [==============================] - 0s 0us/step\n",
            "Downloading data from https://storage.googleapis.com/tensorflow/tf-keras-datasets/t10k-labels-idx1-ubyte.gz\n",
            "8192/5148 [===============================================] - 0s 0us/step\n",
            "Downloading data from https://storage.googleapis.com/tensorflow/tf-keras-datasets/t10k-images-idx3-ubyte.gz\n",
            "4423680/4422102 [==============================] - 0s 0us/step\n"
          ],
          "name": "stdout"
        }
      ]
    },
    {
      "cell_type": "code",
      "metadata": {
        "id": "lkqnSC5HKp6U",
        "colab_type": "code",
        "colab": {
          "base_uri": "https://localhost:8080/",
          "height": 282
        },
        "outputId": "f1c27483-d049-4b6c-e178-3f3bc836035f"
      },
      "source": [
        "import matplotlib.pyplot as plt\n",
        "plt.imshow(X_train[0])"
      ],
      "execution_count": 4,
      "outputs": [
        {
          "output_type": "execute_result",
          "data": {
            "text/plain": [
              "<matplotlib.image.AxesImage at 0x7f45ca7a6c50>"
            ]
          },
          "metadata": {
            "tags": []
          },
          "execution_count": 4
        },
        {
          "output_type": "display_data",
          "data": {
            "image/png": "[encoded data removed]",
            "text/plain": [
              "<Figure size 432x288 with 1 Axes>"
            ]
          },
          "metadata": {
            "tags": [],
            "needs_background": "light"
          }
        }
      ]
    },
    {
      "cell_type": "code",
      "metadata": {
        "id": "eCZluokZLANc",
        "colab_type": "code",
        "colab": {}
      },
      "source": [
        "X_train = X_train/255.0\n",
        "X_val = X_val/255.0"
      ],
      "execution_count": 5,
      "outputs": []
    },
    {
      "cell_type": "code",
      "metadata": {
        "id": "1U28oavbLKHQ",
        "colab_type": "code",
        "colab": {}
      },
      "source": [
        "X_train = X_train.reshape(-1,28,28,1)\n",
        "X_val = X_val.reshape(-1,28,28,1)"
      ],
      "execution_count": 6,
      "outputs": []
    },
    {
      "cell_type": "code",
      "metadata": {
        "id": "1kuB0dDELbLR",
        "colab_type": "code",
        "colab": {}
      },
      "source": [
        "def build_model(hp):\n",
        "  model = Sequential()\n",
        "  model.add(Conv2D(hp.Int('conv_1_filter',min_value=32,max_value=256,step=16),\n",
        "                   hp.Choice('Kernel_1',values=[3,5]),\n",
        "                   activation='relu',input_shape = (28,28,1)))\n",
        "  model.add(Conv2D(hp.Int('conv_2_filter',min_value=32,max_value=256,step=16),\n",
        "                   hp.Choice('Kernel_2',values=[3,5]),\n",
        "                   activation='relu'))\n",
        "  model.add(Flatten())\n",
        "  model.add(Dense(hp.Int('dense_1_unit',min_value=32,max_value=128,step=16),\n",
        "                  activation='relu'))\n",
        "  model.add(Dense(10,activation='softmax'))\n",
        "  model.compile(optimizer= tensorflow.keras.optimizers.Adam(hp.Choice('learning_rate',values = [1e-2,1e-3,1e-4])),\n",
        "                loss = 'sparse_categorical_crossentropy',\n",
        "                metrics=['accuracy'])\n",
        "  return model \n",
        "\n"
      ],
      "execution_count": 7,
      "outputs": []
    },
    {
      "cell_type": "code",
      "metadata": {
        "id": "shLW3_LEPnWF",
        "colab_type": "code",
        "colab": {
          "base_uri": "https://localhost:8080/",
          "height": 541
        },
        "outputId": "5ced4d76-cc57-45c1-cb61-9878f5132964"
      },
      "source": [
        "!pip install keras-tuner"
      ],
      "execution_count": 8,
      "outputs": [
        {
          "output_type": "stream",
          "text": [
            "Collecting keras-tuner\n",
            "\u001b[?25l  Downloading https://files.pythonhosted.org/packages/a7/f7/4b41b6832abf4c9bef71a664dc563adb25afc5812831667c6db572b1a261/keras-tuner-1.0.1.tar.gz (54kB)\n",
            "\r\u001b[K     |██████                          | 10kB 24.7MB/s eta 0:00:01\r\u001b[K     |████████████                    | 20kB 4.3MB/s eta 0:00:01\r\u001b[K     |██████████████████              | 30kB 5.4MB/s eta 0:00:01\r\u001b[K     |████████████████████████        | 40kB 6.0MB/s eta 0:00:01\r\u001b[K     |██████████████████████████████  | 51kB 5.0MB/s eta 0:00:01\r\u001b[K     |████████████████████████████████| 61kB 3.6MB/s \n",
            "\u001b[?25hRequirement already satisfied: future in /usr/local/lib/python3.6/dist-packages (from keras-tuner) (0.16.0)\n",
            "Requirement already satisfied: numpy in /usr/local/lib/python3.6/dist-packages (from keras-tuner) (1.18.5)\n",
            "Requirement already satisfied: tabulate in /usr/local/lib/python3.6/dist-packages (from keras-tuner) (0.8.7)\n",
            "Collecting terminaltables\n",
            "  Downloading https://files.pythonhosted.org/packages/9b/c4/4a21174f32f8a7e1104798c445dacdc1d4df86f2f26722767034e4de4bff/terminaltables-3.1.0.tar.gz\n",
            "Collecting colorama\n",
            "  Downloading https://files.pythonhosted.org/packages/c9/dc/45cdef1b4d119eb96316b3117e6d5708a08029992b2fee2c143c7a0a5cc5/colorama-0.4.3-py2.py3-none-any.whl\n",
            "Requirement already satisfied: tqdm in /usr/local/lib/python3.6/dist-packages (from keras-tuner) (4.41.1)\n",
            "Requirement already satisfied: requests in /usr/local/lib/python3.6/dist-packages (from keras-tuner) (2.23.0)\n",
            "Requirement already satisfied: scipy in /usr/local/lib/python3.6/dist-packages (from keras-tuner) (1.4.1)\n",
            "Requirement already satisfied: scikit-learn in /usr/local/lib/python3.6/dist-packages (from keras-tuner) (0.22.2.post1)\n",
            "Requirement already satisfied: chardet<4,>=3.0.2 in /usr/local/lib/python3.6/dist-packages (from requests->keras-tuner) (3.0.4)\n",
            "Requirement already satisfied: idna<3,>=2.5 in /usr/local/lib/python3.6/dist-packages (from requests->keras-tuner) (2.9)\n",
            "Requirement already satisfied: urllib3!=1.25.0,!=1.25.1,<1.26,>=1.21.1 in /usr/local/lib/python3.6/dist-packages (from requests->keras-tuner) (1.24.3)\n",
            "Requirement already satisfied: certifi>=2017.4.17 in /usr/local/lib/python3.6/dist-packages (from requests->keras-tuner) (2020.4.5.2)\n",
            "Requirement already satisfied: joblib>=0.11 in /usr/local/lib/python3.6/dist-packages (from scikit-learn->keras-tuner) (0.15.1)\n",
            "Building wheels for collected packages: keras-tuner, terminaltables\n",
            "  Building wheel for keras-tuner (setup.py) ... \u001b[?25l\u001b[?25hdone\n",
            "  Created wheel for keras-tuner: filename=keras_tuner-1.0.1-cp36-none-any.whl size=73200 sha256=d40e71650b6d56fa737a48121ecb3eca9582c0244f1d49a060bf66850675b60a\n",
            "  Stored in directory: /root/.cache/pip/wheels/b9/cc/62/52716b70dd90f3db12519233c3a93a5360bc672da1a10ded43\n",
            "  Building wheel for terminaltables (setup.py) ... \u001b[?25l\u001b[?25hdone\n",
            "  Created wheel for terminaltables: filename=terminaltables-3.1.0-cp36-none-any.whl size=15356 sha256=cd921679d80fa6c1206988d33ddcffdef84d142f21e6f196aaf05d9a566952df\n",
            "  Stored in directory: /root/.cache/pip/wheels/30/6b/50/6c75775b681fb36cdfac7f19799888ef9d8813aff9e379663e\n",
            "Successfully built keras-tuner terminaltables\n",
            "Installing collected packages: terminaltables, colorama, keras-tuner\n",
            "Successfully installed colorama-0.4.3 keras-tuner-1.0.1 terminaltables-3.1.0\n"
          ],
          "name": "stdout"
        }
      ]
    },
    {
      "cell_type": "code",
      "metadata": {
        "id": "dWctMkLSPqfK",
        "colab_type": "code",
        "colab": {}
      },
      "source": [
        "from kerastuner import RandomSearch\n",
        "from kerastuner.engine.hyperparameters import HyperParameters"
      ],
      "execution_count": 9,
      "outputs": []
    },
    {
      "cell_type": "code",
      "metadata": {
        "id": "Uz_cKDk8QXK_",
        "colab_type": "code",
        "colab": {}
      },
      "source": [
        "tuner = RandomSearch(build_model,\n",
        "                    objective='val_accuracy',\n",
        "                    max_trials=5,\n",
        "                    executions_per_trial=3,\n",
        "                    directory='my_dir',\n",
        "                    project_name='MNIST')"
      ],
      "execution_count": 10,
      "outputs": []
    },
    {
      "cell_type": "code",
      "metadata": {
        "id": "55RVsuS4Q2MC",
        "colab_type": "code",
        "colab": {
          "base_uri": "https://localhost:8080/",
          "height": 1000
        },
        "outputId": "83c92eac-d34a-4386-baa9-1f0fe3dfbb38"
      },
      "source": [
        "tuner.search(X_train,y_train,epochs=3,validation_data = (X_val,y_val))"
      ],
      "execution_count": 11,
      "outputs": [
        {
          "output_type": "stream",
          "text": [
            "Epoch 1/3\n",
            "1875/1875 [==============================] - 9s 5ms/step - loss: 0.4741 - accuracy: 0.8341 - val_loss: 0.3822 - val_accuracy: 0.8606\n",
            "Epoch 2/3\n",
            "1875/1875 [==============================] - 8s 5ms/step - loss: 0.3532 - accuracy: 0.8722 - val_loss: 0.3723 - val_accuracy: 0.8579\n",
            "Epoch 3/3\n",
            "1875/1875 [==============================] - 9s 5ms/step - loss: 0.3243 - accuracy: 0.8812 - val_loss: 0.3556 - val_accuracy: 0.8703\n",
            "Epoch 1/3\n",
            "1875/1875 [==============================] - 9s 5ms/step - loss: 0.5007 - accuracy: 0.8268 - val_loss: 0.4198 - val_accuracy: 0.8428\n",
            "Epoch 2/3\n",
            "1875/1875 [==============================] - 8s 4ms/step - loss: 0.3613 - accuracy: 0.8673 - val_loss: 0.4053 - val_accuracy: 0.8484\n",
            "Epoch 3/3\n",
            "1875/1875 [==============================] - 9s 5ms/step - loss: 0.3323 - accuracy: 0.8759 - val_loss: 0.3945 - val_accuracy: 0.8660\n",
            "Epoch 1/3\n",
            "1875/1875 [==============================] - 9s 5ms/step - loss: 0.4736 - accuracy: 0.8276 - val_loss: 0.4426 - val_accuracy: 0.8366\n",
            "Epoch 2/3\n",
            "1875/1875 [==============================] - 8s 4ms/step - loss: 0.3705 - accuracy: 0.8651 - val_loss: 0.3827 - val_accuracy: 0.8661\n",
            "Epoch 3/3\n",
            "1875/1875 [==============================] - 8s 4ms/step - loss: 0.3388 - accuracy: 0.8750 - val_loss: 0.4088 - val_accuracy: 0.8633\n"
          ],
          "name": "stdout"
        },
        {
          "output_type": "display_data",
          "data": {
            "text/html": [
              "<span style=\"color:#4527A0\"><h1 style=\"font-size:18px\">Trial complete</h1></span>"
            ],
            "text/plain": [
              "<IPython.core.display.HTML object>"
            ]
          },
          "metadata": {
            "tags": []
          }
        },
        {
          "output_type": "display_data",
          "data": {
            "text/html": [
              "<span style=\"color:#4527A0\"><h1 style=\"font-size:18px\">Trial summary</h1></span>"
            ],
            "text/plain": [
              "<IPython.core.display.HTML object>"
            ]
          },
          "metadata": {
            "tags": []
          }
        },
        {
          "output_type": "display_data",
          "data": {
            "text/html": [
              "<span style=\"color:cyan\"> |-Trial ID: 9fb172eb4835b73f3a903bf55584952b</span>"
            ],
            "text/plain": [
              "<IPython.core.display.HTML object>"
            ]
          },
          "metadata": {
            "tags": []
          }
        },
        {
          "output_type": "display_data",
          "data": {
            "text/html": [
              "<span style=\"color:cyan\"> |-Score: 0.867466668287913</span>"
            ],
            "text/plain": [
              "<IPython.core.display.HTML object>"
            ]
          },
          "metadata": {
            "tags": []
          }
        },
        {
          "output_type": "display_data",
          "data": {
            "text/html": [
              "<span style=\"color:cyan\"> |-Best step: 0</span>"
            ],
            "text/plain": [
              "<IPython.core.display.HTML object>"
            ]
          },
          "metadata": {
            "tags": []
          }
        },
        {
          "output_type": "display_data",
          "data": {
            "text/html": [
              "<span style=\"color:#7E57C2\"><h2 style=\"font-size:16px\">Hyperparameters:</h2></span>"
            ],
            "text/plain": [
              "<IPython.core.display.HTML object>"
            ]
          },
          "metadata": {
            "tags": []
          }
        },
        {
          "output_type": "display_data",
          "data": {
            "text/html": [
              "<span style=\"color:cyan\"> |-Kernel_1: 3</span>"
            ],
            "text/plain": [
              "<IPython.core.display.HTML object>"
            ]
          },
          "metadata": {
            "tags": []
          }
        },
        {
          "output_type": "display_data",
          "data": {
            "text/html": [
              "<span style=\"color:blue\"> |-Kernel_2: 5</span>"
            ],
            "text/plain": [
              "<IPython.core.display.HTML object>"
            ]
          },
          "metadata": {
            "tags": []
          }
        },
        {
          "output_type": "display_data",
          "data": {
            "text/html": [
              "<span style=\"color:cyan\"> |-conv_1_filter: 64</span>"
            ],
            "text/plain": [
              "<IPython.core.display.HTML object>"
            ]
          },
          "metadata": {
            "tags": []
          }
        },
        {
          "output_type": "display_data",
          "data": {
            "text/html": [
              "<span style=\"color:blue\"> |-conv_2_filter: 48</span>"
            ],
            "text/plain": [
              "<IPython.core.display.HTML object>"
            ]
          },
          "metadata": {
            "tags": []
          }
        },
        {
          "output_type": "display_data",
          "data": {
            "text/html": [
              "<span style=\"color:cyan\"> |-dense_1_unit: 32</span>"
            ],
            "text/plain": [
              "<IPython.core.display.HTML object>"
            ]
          },
          "metadata": {
            "tags": []
          }
        },
        {
          "output_type": "display_data",
          "data": {
            "text/html": [
              "<span style=\"color:blue\"> |-learning_rate: 0.01</span>"
            ],
            "text/plain": [
              "<IPython.core.display.HTML object>"
            ]
          },
          "metadata": {
            "tags": []
          }
        },
        {
          "output_type": "stream",
          "text": [
            "Epoch 1/3\n",
            "1875/1875 [==============================] - 18s 9ms/step - loss: 0.6522 - accuracy: 0.8062 - val_loss: 0.4410 - val_accuracy: 0.8410\n",
            "Epoch 2/3\n",
            "1875/1875 [==============================] - 18s 9ms/step - loss: 0.3845 - accuracy: 0.8566 - val_loss: 0.4243 - val_accuracy: 0.8521\n",
            "Epoch 3/3\n",
            "1875/1875 [==============================] - 18s 9ms/step - loss: 0.3568 - accuracy: 0.8673 - val_loss: 0.4122 - val_accuracy: 0.8533\n",
            "Epoch 1/3\n",
            "1875/1875 [==============================] - 17s 9ms/step - loss: 0.7837 - accuracy: 0.8164 - val_loss: 0.4257 - val_accuracy: 0.8451\n",
            "Epoch 2/3\n",
            "1875/1875 [==============================] - 18s 9ms/step - loss: 0.3735 - accuracy: 0.8615 - val_loss: 0.3960 - val_accuracy: 0.8564\n",
            "Epoch 3/3\n",
            "1875/1875 [==============================] - 18s 9ms/step - loss: 0.3448 - accuracy: 0.8723 - val_loss: 0.4206 - val_accuracy: 0.8606\n",
            "Epoch 1/3\n",
            "1875/1875 [==============================] - 18s 9ms/step - loss: 0.6875 - accuracy: 0.8206 - val_loss: 0.4217 - val_accuracy: 0.8425\n",
            "Epoch 2/3\n",
            "1875/1875 [==============================] - 18s 9ms/step - loss: 0.3835 - accuracy: 0.8599 - val_loss: 0.4071 - val_accuracy: 0.8565\n",
            "Epoch 3/3\n",
            "1875/1875 [==============================] - 18s 9ms/step - loss: 0.3649 - accuracy: 0.8666 - val_loss: 0.3952 - val_accuracy: 0.8621\n"
          ],
          "name": "stdout"
        },
        {
          "output_type": "display_data",
          "data": {
            "text/html": [
              "<span style=\"color:#4527A0\"><h1 style=\"font-size:18px\">Trial complete</h1></span>"
            ],
            "text/plain": [
              "<IPython.core.display.HTML object>"
            ]
          },
          "metadata": {
            "tags": []
          }
        },
        {
          "output_type": "display_data",
          "data": {
            "text/html": [
              "<span style=\"color:#4527A0\"><h1 style=\"font-size:18px\">Trial summary</h1></span>"
            ],
            "text/plain": [
              "<IPython.core.display.HTML object>"
            ]
          },
          "metadata": {
            "tags": []
          }
        },
        {
          "output_type": "display_data",
          "data": {
            "text/html": [
              "<span style=\"color:cyan\"> |-Trial ID: 55d7a01a12a573efb33202514a7be262</span>"
            ],
            "text/plain": [
              "<IPython.core.display.HTML object>"
            ]
          },
          "metadata": {
            "tags": []
          }
        },
        {
          "output_type": "display_data",
          "data": {
            "text/html": [
              "<span style=\"color:cyan\"> |-Score: 0.8586666584014893</span>"
            ],
            "text/plain": [
              "<IPython.core.display.HTML object>"
            ]
          },
          "metadata": {
            "tags": []
          }
        },
        {
          "output_type": "display_data",
          "data": {
            "text/html": [
              "<span style=\"color:cyan\"> |-Best step: 0</span>"
            ],
            "text/plain": [
              "<IPython.core.display.HTML object>"
            ]
          },
          "metadata": {
            "tags": []
          }
        },
        {
          "output_type": "display_data",
          "data": {
            "text/html": [
              "<span style=\"color:#7E57C2\"><h2 style=\"font-size:16px\">Hyperparameters:</h2></span>"
            ],
            "text/plain": [
              "<IPython.core.display.HTML object>"
            ]
          },
          "metadata": {
            "tags": []
          }
        },
        {
          "output_type": "display_data",
          "data": {
            "text/html": [
              "<span style=\"color:cyan\"> |-Kernel_1: 5</span>"
            ],
            "text/plain": [
              "<IPython.core.display.HTML object>"
            ]
          },
          "metadata": {
            "tags": []
          }
        },
        {
          "output_type": "display_data",
          "data": {
            "text/html": [
              "<span style=\"color:blue\"> |-Kernel_2: 5</span>"
            ],
            "text/plain": [
              "<IPython.core.display.HTML object>"
            ]
          },
          "metadata": {
            "tags": []
          }
        },
        {
          "output_type": "display_data",
          "data": {
            "text/html": [
              "<span style=\"color:cyan\"> |-conv_1_filter: 176</span>"
            ],
            "text/plain": [
              "<IPython.core.display.HTML object>"
            ]
          },
          "metadata": {
            "tags": []
          }
        },
        {
          "output_type": "display_data",
          "data": {
            "text/html": [
              "<span style=\"color:blue\"> |-conv_2_filter: 240</span>"
            ],
            "text/plain": [
              "<IPython.core.display.HTML object>"
            ]
          },
          "metadata": {
            "tags": []
          }
        },
        {
          "output_type": "display_data",
          "data": {
            "text/html": [
              "<span style=\"color:cyan\"> |-dense_1_unit: 32</span>"
            ],
            "text/plain": [
              "<IPython.core.display.HTML object>"
            ]
          },
          "metadata": {
            "tags": []
          }
        },
        {
          "output_type": "display_data",
          "data": {
            "text/html": [
              "<span style=\"color:blue\"> |-learning_rate: 0.01</span>"
            ],
            "text/plain": [
              "<IPython.core.display.HTML object>"
            ]
          },
          "metadata": {
            "tags": []
          }
        },
        {
          "output_type": "stream",
          "text": [
            "Epoch 1/3\n",
            "1875/1875 [==============================] - 12s 6ms/step - loss: 0.3745 - accuracy: 0.8641 - val_loss: 0.3019 - val_accuracy: 0.8925\n",
            "Epoch 2/3\n",
            "1875/1875 [==============================] - 11s 6ms/step - loss: 0.2393 - accuracy: 0.9112 - val_loss: 0.2906 - val_accuracy: 0.8892\n",
            "Epoch 3/3\n",
            "1875/1875 [==============================] - 11s 6ms/step - loss: 0.1777 - accuracy: 0.9328 - val_loss: 0.2985 - val_accuracy: 0.9041\n",
            "Epoch 1/3\n",
            "1875/1875 [==============================] - 11s 6ms/step - loss: 0.3821 - accuracy: 0.8626 - val_loss: 0.2938 - val_accuracy: 0.8949\n",
            "Epoch 2/3\n",
            "1875/1875 [==============================] - 11s 6ms/step - loss: 0.2411 - accuracy: 0.9107 - val_loss: 0.2714 - val_accuracy: 0.9000\n",
            "Epoch 3/3\n",
            "1875/1875 [==============================] - 11s 6ms/step - loss: 0.1823 - accuracy: 0.9317 - val_loss: 0.2618 - val_accuracy: 0.9081\n",
            "Epoch 1/3\n",
            "1875/1875 [==============================] - 11s 6ms/step - loss: 0.3757 - accuracy: 0.8629 - val_loss: 0.3152 - val_accuracy: 0.8853\n",
            "Epoch 2/3\n",
            "1875/1875 [==============================] - 11s 6ms/step - loss: 0.2439 - accuracy: 0.9093 - val_loss: 0.2812 - val_accuracy: 0.8994\n",
            "Epoch 3/3\n",
            "1875/1875 [==============================] - 11s 6ms/step - loss: 0.1816 - accuracy: 0.9317 - val_loss: 0.2668 - val_accuracy: 0.9074\n"
          ],
          "name": "stdout"
        },
        {
          "output_type": "display_data",
          "data": {
            "text/html": [
              "<span style=\"color:#4527A0\"><h1 style=\"font-size:18px\">Trial complete</h1></span>"
            ],
            "text/plain": [
              "<IPython.core.display.HTML object>"
            ]
          },
          "metadata": {
            "tags": []
          }
        },
        {
          "output_type": "display_data",
          "data": {
            "text/html": [
              "<span style=\"color:#4527A0\"><h1 style=\"font-size:18px\">Trial summary</h1></span>"
            ],
            "text/plain": [
              "<IPython.core.display.HTML object>"
            ]
          },
          "metadata": {
            "tags": []
          }
        },
        {
          "output_type": "display_data",
          "data": {
            "text/html": [
              "<span style=\"color:cyan\"> |-Trial ID: dce8e56fb2769236b294d183c757076f</span>"
            ],
            "text/plain": [
              "<IPython.core.display.HTML object>"
            ]
          },
          "metadata": {
            "tags": []
          }
        },
        {
          "output_type": "display_data",
          "data": {
            "text/html": [
              "<span style=\"color:cyan\"> |-Score: 0.9065333406130472</span>"
            ],
            "text/plain": [
              "<IPython.core.display.HTML object>"
            ]
          },
          "metadata": {
            "tags": []
          }
        },
        {
          "output_type": "display_data",
          "data": {
            "text/html": [
              "<span style=\"color:cyan\"> |-Best step: 0</span>"
            ],
            "text/plain": [
              "<IPython.core.display.HTML object>"
            ]
          },
          "metadata": {
            "tags": []
          }
        },
        {
          "output_type": "display_data",
          "data": {
            "text/html": [
              "<span style=\"color:#7E57C2\"><h2 style=\"font-size:16px\">Hyperparameters:</h2></span>"
            ],
            "text/plain": [
              "<IPython.core.display.HTML object>"
            ]
          },
          "metadata": {
            "tags": []
          }
        },
        {
          "output_type": "display_data",
          "data": {
            "text/html": [
              "<span style=\"color:cyan\"> |-Kernel_1: 5</span>"
            ],
            "text/plain": [
              "<IPython.core.display.HTML object>"
            ]
          },
          "metadata": {
            "tags": []
          }
        },
        {
          "output_type": "display_data",
          "data": {
            "text/html": [
              "<span style=\"color:blue\"> |-Kernel_2: 3</span>"
            ],
            "text/plain": [
              "<IPython.core.display.HTML object>"
            ]
          },
          "metadata": {
            "tags": []
          }
        },
        {
          "output_type": "display_data",
          "data": {
            "text/html": [
              "<span style=\"color:cyan\"> |-conv_1_filter: 64</span>"
            ],
            "text/plain": [
              "<IPython.core.display.HTML object>"
            ]
          },
          "metadata": {
            "tags": []
          }
        },
        {
          "output_type": "display_data",
          "data": {
            "text/html": [
              "<span style=\"color:blue\"> |-conv_2_filter: 144</span>"
            ],
            "text/plain": [
              "<IPython.core.display.HTML object>"
            ]
          },
          "metadata": {
            "tags": []
          }
        },
        {
          "output_type": "display_data",
          "data": {
            "text/html": [
              "<span style=\"color:cyan\"> |-dense_1_unit: 112</span>"
            ],
            "text/plain": [
              "<IPython.core.display.HTML object>"
            ]
          },
          "metadata": {
            "tags": []
          }
        },
        {
          "output_type": "display_data",
          "data": {
            "text/html": [
              "<span style=\"color:blue\"> |-learning_rate: 0.001</span>"
            ],
            "text/plain": [
              "<IPython.core.display.HTML object>"
            ]
          },
          "metadata": {
            "tags": []
          }
        },
        {
          "output_type": "stream",
          "text": [
            "Epoch 1/3\n",
            "1875/1875 [==============================] - 18s 10ms/step - loss: 0.3628 - accuracy: 0.8693 - val_loss: 0.2885 - val_accuracy: 0.8953\n",
            "Epoch 2/3\n",
            "1875/1875 [==============================] - 18s 9ms/step - loss: 0.2231 - accuracy: 0.9188 - val_loss: 0.2814 - val_accuracy: 0.9021\n",
            "Epoch 3/3\n",
            "1875/1875 [==============================] - 17s 9ms/step - loss: 0.1600 - accuracy: 0.9403 - val_loss: 0.2331 - val_accuracy: 0.9197\n",
            "Epoch 1/3\n",
            "1875/1875 [==============================] - 17s 9ms/step - loss: 0.3798 - accuracy: 0.8642 - val_loss: 0.3050 - val_accuracy: 0.8880\n",
            "Epoch 2/3\n",
            "1875/1875 [==============================] - 17s 9ms/step - loss: 0.2409 - accuracy: 0.9114 - val_loss: 0.2651 - val_accuracy: 0.9055\n",
            "Epoch 3/3\n",
            "1875/1875 [==============================] - 17s 9ms/step - loss: 0.1826 - accuracy: 0.9317 - val_loss: 0.2554 - val_accuracy: 0.9106\n",
            "Epoch 1/3\n",
            "1875/1875 [==============================] - 17s 9ms/step - loss: 0.3789 - accuracy: 0.8629 - val_loss: 0.2953 - val_accuracy: 0.8924\n",
            "Epoch 2/3\n",
            "1875/1875 [==============================] - 17s 9ms/step - loss: 0.2337 - accuracy: 0.9136 - val_loss: 0.2675 - val_accuracy: 0.9045\n",
            "Epoch 3/3\n",
            "1875/1875 [==============================] - 17s 9ms/step - loss: 0.1721 - accuracy: 0.9358 - val_loss: 0.2755 - val_accuracy: 0.9055\n"
          ],
          "name": "stdout"
        },
        {
          "output_type": "display_data",
          "data": {
            "text/html": [
              "<span style=\"color:#4527A0\"><h1 style=\"font-size:18px\">Trial complete</h1></span>"
            ],
            "text/plain": [
              "<IPython.core.display.HTML object>"
            ]
          },
          "metadata": {
            "tags": []
          }
        },
        {
          "output_type": "display_data",
          "data": {
            "text/html": [
              "<span style=\"color:#4527A0\"><h1 style=\"font-size:18px\">Trial summary</h1></span>"
            ],
            "text/plain": [
              "<IPython.core.display.HTML object>"
            ]
          },
          "metadata": {
            "tags": []
          }
        },
        {
          "output_type": "display_data",
          "data": {
            "text/html": [
              "<span style=\"color:cyan\"> |-Trial ID: 63b6e3e52f7644f936c8a3cf2df329a8</span>"
            ],
            "text/plain": [
              "<IPython.core.display.HTML object>"
            ]
          },
          "metadata": {
            "tags": []
          }
        },
        {
          "output_type": "display_data",
          "data": {
            "text/html": [
              "<span style=\"color:cyan\"> |-Score: 0.9119333426157633</span>"
            ],
            "text/plain": [
              "<IPython.core.display.HTML object>"
            ]
          },
          "metadata": {
            "tags": []
          }
        },
        {
          "output_type": "display_data",
          "data": {
            "text/html": [
              "<span style=\"color:cyan\"> |-Best step: 0</span>"
            ],
            "text/plain": [
              "<IPython.core.display.HTML object>"
            ]
          },
          "metadata": {
            "tags": []
          }
        },
        {
          "output_type": "display_data",
          "data": {
            "text/html": [
              "<span style=\"color:#7E57C2\"><h2 style=\"font-size:16px\">Hyperparameters:</h2></span>"
            ],
            "text/plain": [
              "<IPython.core.display.HTML object>"
            ]
          },
          "metadata": {
            "tags": []
          }
        },
        {
          "output_type": "display_data",
          "data": {
            "text/html": [
              "<span style=\"color:cyan\"> |-Kernel_1: 3</span>"
            ],
            "text/plain": [
              "<IPython.core.display.HTML object>"
            ]
          },
          "metadata": {
            "tags": []
          }
        },
        {
          "output_type": "display_data",
          "data": {
            "text/html": [
              "<span style=\"color:blue\"> |-Kernel_2: 3</span>"
            ],
            "text/plain": [
              "<IPython.core.display.HTML object>"
            ]
          },
          "metadata": {
            "tags": []
          }
        },
        {
          "output_type": "display_data",
          "data": {
            "text/html": [
              "<span style=\"color:cyan\"> |-conv_1_filter: 192</span>"
            ],
            "text/plain": [
              "<IPython.core.display.HTML object>"
            ]
          },
          "metadata": {
            "tags": []
          }
        },
        {
          "output_type": "display_data",
          "data": {
            "text/html": [
              "<span style=\"color:blue\"> |-conv_2_filter: 240</span>"
            ],
            "text/plain": [
              "<IPython.core.display.HTML object>"
            ]
          },
          "metadata": {
            "tags": []
          }
        },
        {
          "output_type": "display_data",
          "data": {
            "text/html": [
              "<span style=\"color:cyan\"> |-dense_1_unit: 48</span>"
            ],
            "text/plain": [
              "<IPython.core.display.HTML object>"
            ]
          },
          "metadata": {
            "tags": []
          }
        },
        {
          "output_type": "display_data",
          "data": {
            "text/html": [
              "<span style=\"color:blue\"> |-learning_rate: 0.001</span>"
            ],
            "text/plain": [
              "<IPython.core.display.HTML object>"
            ]
          },
          "metadata": {
            "tags": []
          }
        },
        {
          "output_type": "stream",
          "text": [
            "Epoch 1/3\n",
            "1875/1875 [==============================] - 10s 6ms/step - loss: 0.3865 - accuracy: 0.8606 - val_loss: 0.3063 - val_accuracy: 0.8892\n",
            "Epoch 2/3\n",
            "1875/1875 [==============================] - 10s 6ms/step - loss: 0.2440 - accuracy: 0.9101 - val_loss: 0.2875 - val_accuracy: 0.8937\n",
            "Epoch 3/3\n",
            "1875/1875 [==============================] - 10s 5ms/step - loss: 0.1874 - accuracy: 0.9302 - val_loss: 0.2670 - val_accuracy: 0.9102\n",
            "Epoch 1/3\n",
            "1875/1875 [==============================] - 10s 6ms/step - loss: 0.3868 - accuracy: 0.8613 - val_loss: 0.3370 - val_accuracy: 0.8814\n",
            "Epoch 2/3\n",
            "1875/1875 [==============================] - 10s 5ms/step - loss: 0.2509 - accuracy: 0.9085 - val_loss: 0.2887 - val_accuracy: 0.8935\n",
            "Epoch 3/3\n",
            "1875/1875 [==============================] - 10s 5ms/step - loss: 0.1900 - accuracy: 0.9294 - val_loss: 0.2849 - val_accuracy: 0.9031\n",
            "Epoch 1/3\n",
            "1875/1875 [==============================] - 10s 5ms/step - loss: 0.3836 - accuracy: 0.8623 - val_loss: 0.3359 - val_accuracy: 0.8745\n",
            "Epoch 2/3\n",
            "1875/1875 [==============================] - 10s 5ms/step - loss: 0.2472 - accuracy: 0.9091 - val_loss: 0.2578 - val_accuracy: 0.9056\n",
            "Epoch 3/3\n",
            "1875/1875 [==============================] - 10s 5ms/step - loss: 0.1860 - accuracy: 0.9306 - val_loss: 0.2613 - val_accuracy: 0.9116\n"
          ],
          "name": "stdout"
        },
        {
          "output_type": "display_data",
          "data": {
            "text/html": [
              "<span style=\"color:#4527A0\"><h1 style=\"font-size:18px\">Trial complete</h1></span>"
            ],
            "text/plain": [
              "<IPython.core.display.HTML object>"
            ]
          },
          "metadata": {
            "tags": []
          }
        },
        {
          "output_type": "display_data",
          "data": {
            "text/html": [
              "<span style=\"color:#4527A0\"><h1 style=\"font-size:18px\">Trial summary</h1></span>"
            ],
            "text/plain": [
              "<IPython.core.display.HTML object>"
            ]
          },
          "metadata": {
            "tags": []
          }
        },
        {
          "output_type": "display_data",
          "data": {
            "text/html": [
              "<span style=\"color:cyan\"> |-Trial ID: 5657b776f42814e778725616ea375151</span>"
            ],
            "text/plain": [
              "<IPython.core.display.HTML object>"
            ]
          },
          "metadata": {
            "tags": []
          }
        },
        {
          "output_type": "display_data",
          "data": {
            "text/html": [
              "<span style=\"color:cyan\"> |-Score: 0.908300002415975</span>"
            ],
            "text/plain": [
              "<IPython.core.display.HTML object>"
            ]
          },
          "metadata": {
            "tags": []
          }
        },
        {
          "output_type": "display_data",
          "data": {
            "text/html": [
              "<span style=\"color:cyan\"> |-Best step: 0</span>"
            ],
            "text/plain": [
              "<IPython.core.display.HTML object>"
            ]
          },
          "metadata": {
            "tags": []
          }
        },
        {
          "output_type": "display_data",
          "data": {
            "text/html": [
              "<span style=\"color:#7E57C2\"><h2 style=\"font-size:16px\">Hyperparameters:</h2></span>"
            ],
            "text/plain": [
              "<IPython.core.display.HTML object>"
            ]
          },
          "metadata": {
            "tags": []
          }
        },
        {
          "output_type": "display_data",
          "data": {
            "text/html": [
              "<span style=\"color:cyan\"> |-Kernel_1: 5</span>"
            ],
            "text/plain": [
              "<IPython.core.display.HTML object>"
            ]
          },
          "metadata": {
            "tags": []
          }
        },
        {
          "output_type": "display_data",
          "data": {
            "text/html": [
              "<span style=\"color:blue\"> |-Kernel_2: 3</span>"
            ],
            "text/plain": [
              "<IPython.core.display.HTML object>"
            ]
          },
          "metadata": {
            "tags": []
          }
        },
        {
          "output_type": "display_data",
          "data": {
            "text/html": [
              "<span style=\"color:cyan\"> |-conv_1_filter: 32</span>"
            ],
            "text/plain": [
              "<IPython.core.display.HTML object>"
            ]
          },
          "metadata": {
            "tags": []
          }
        },
        {
          "output_type": "display_data",
          "data": {
            "text/html": [
              "<span style=\"color:blue\"> |-conv_2_filter: 176</span>"
            ],
            "text/plain": [
              "<IPython.core.display.HTML object>"
            ]
          },
          "metadata": {
            "tags": []
          }
        },
        {
          "output_type": "display_data",
          "data": {
            "text/html": [
              "<span style=\"color:cyan\"> |-dense_1_unit: 48</span>"
            ],
            "text/plain": [
              "<IPython.core.display.HTML object>"
            ]
          },
          "metadata": {
            "tags": []
          }
        },
        {
          "output_type": "display_data",
          "data": {
            "text/html": [
              "<span style=\"color:blue\"> |-learning_rate: 0.001</span>"
            ],
            "text/plain": [
              "<IPython.core.display.HTML object>"
            ]
          },
          "metadata": {
            "tags": []
          }
        },
        {
          "output_type": "stream",
          "text": [
            "INFO:tensorflow:Oracle triggered exit\n"
          ],
          "name": "stdout"
        }
      ]
    },
    {
      "cell_type": "code",
      "metadata": {
        "id": "PM7Pi-mDRJ6w",
        "colab_type": "code",
        "colab": {}
      },
      "source": [
        "model = tuner.get_best_models(num_models=1)[0]"
      ],
      "execution_count": 14,
      "outputs": []
    },
    {
      "cell_type": "code",
      "metadata": {
        "id": "Ra9NupeaUCA2",
        "colab_type": "code",
        "colab": {
          "base_uri": "https://localhost:8080/",
          "height": 330
        },
        "outputId": "87016df6-2dfd-4adc-f594-600e460f973c"
      },
      "source": [
        "model.summary()"
      ],
      "execution_count": 15,
      "outputs": [
        {
          "output_type": "stream",
          "text": [
            "Model: \"sequential\"\n",
            "_________________________________________________________________\n",
            "Layer (type)                 Output Shape              Param #   \n",
            "=================================================================\n",
            "conv2d (Conv2D)              (None, 26, 26, 192)       1920      \n",
            "_________________________________________________________________\n",
            "conv2d_1 (Conv2D)            (None, 24, 24, 240)       414960    \n",
            "_________________________________________________________________\n",
            "flatten (Flatten)            (None, 138240)            0         \n",
            "_________________________________________________________________\n",
            "dense (Dense)                (None, 48)                6635568   \n",
            "_________________________________________________________________\n",
            "dense_1 (Dense)              (None, 10)                490       \n",
            "=================================================================\n",
            "Total params: 7,052,938\n",
            "Trainable params: 7,052,938\n",
            "Non-trainable params: 0\n",
            "_________________________________________________________________\n"
          ],
          "name": "stdout"
        }
      ]
    },
    {
      "cell_type": "code",
      "metadata": {
        "id": "89ltgSmVUQEy",
        "colab_type": "code",
        "colab": {}
      },
      "source": [
        ""
      ],
      "execution_count": null,
      "outputs": []
    }
  ]
}